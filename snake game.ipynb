{
 "cells": [
  {
   "cell_type": "code",
   "execution_count": 1,
   "id": "eb19ff7c-27ed-4739-ad9b-29fde09aa8fc",
   "metadata": {},
   "outputs": [
    {
     "name": "stdout",
     "output_type": "stream",
     "text": [
      ". F . . . . . . . . \n",
      ". . . . . . . . . . \n",
      ". . . . . . . . . . \n",
      ". . . . . . . . . . \n",
      ". . . . . . . . . . \n",
      ". . . . . S . . . . \n",
      ". . . . . . . . . . \n",
      ". . . . . . . . . . \n",
      ". . . . . . . . . . \n",
      ". . . . . . . . . . \n",
      "\n",
      "score: 0\n"
     ]
    },
    {
     "name": "stdin",
     "output_type": "stream",
     "text": [
      "enter direction(up/down/left/right: up\n"
     ]
    },
    {
     "name": "stdout",
     "output_type": "stream",
     "text": [
      ". F . . . . . . . . \n",
      ". . . . . . . . . . \n",
      ". . . . . . . . . . \n",
      ". . . . . . . . . . \n",
      ". . . . . S . . . . \n",
      ". . . . . . . . . . \n",
      ". . . . . . . . . . \n",
      ". . . . . . . . . . \n",
      ". . . . . . . . . . \n",
      ". . . . . . . . . . \n",
      "\n",
      "score: 0\n"
     ]
    },
    {
     "name": "stdin",
     "output_type": "stream",
     "text": [
      "enter direction(up/down/left/right: up\n"
     ]
    },
    {
     "name": "stdout",
     "output_type": "stream",
     "text": [
      ". F . . . . . . . . \n",
      ". . . . . . . . . . \n",
      ". . . . . . . . . . \n",
      ". . . . . S . . . . \n",
      ". . . . . . . . . . \n",
      ". . . . . . . . . . \n",
      ". . . . . . . . . . \n",
      ". . . . . . . . . . \n",
      ". . . . . . . . . . \n",
      ". . . . . . . . . . \n",
      "\n",
      "score: 0\n"
     ]
    },
    {
     "name": "stdin",
     "output_type": "stream",
     "text": [
      "enter direction(up/down/left/right: up\n"
     ]
    },
    {
     "name": "stdout",
     "output_type": "stream",
     "text": [
      ". F . . . . . . . . \n",
      ". . . . . . . . . . \n",
      ". . . . . S . . . . \n",
      ". . . . . . . . . . \n",
      ". . . . . . . . . . \n",
      ". . . . . . . . . . \n",
      ". . . . . . . . . . \n",
      ". . . . . . . . . . \n",
      ". . . . . . . . . . \n",
      ". . . . . . . . . . \n",
      "\n",
      "score: 0\n"
     ]
    },
    {
     "name": "stdin",
     "output_type": "stream",
     "text": [
      "enter direction(up/down/left/right: up\n"
     ]
    },
    {
     "name": "stdout",
     "output_type": "stream",
     "text": [
      ". F . . . . . . . . \n",
      ". . . . . S . . . . \n",
      ". . . . . . . . . . \n",
      ". . . . . . . . . . \n",
      ". . . . . . . . . . \n",
      ". . . . . . . . . . \n",
      ". . . . . . . . . . \n",
      ". . . . . . . . . . \n",
      ". . . . . . . . . . \n",
      ". . . . . . . . . . \n",
      "\n",
      "score: 0\n"
     ]
    },
    {
     "name": "stdin",
     "output_type": "stream",
     "text": [
      "enter direction(up/down/left/right: up\n"
     ]
    },
    {
     "name": "stdout",
     "output_type": "stream",
     "text": [
      ". F . . . S . . . . \n",
      ". . . . . . . . . . \n",
      ". . . . . . . . . . \n",
      ". . . . . . . . . . \n",
      ". . . . . . . . . . \n",
      ". . . . . . . . . . \n",
      ". . . . . . . . . . \n",
      ". . . . . . . . . . \n",
      ". . . . . . . . . . \n",
      ". . . . . . . . . . \n",
      "\n",
      "score: 0\n"
     ]
    },
    {
     "name": "stdin",
     "output_type": "stream",
     "text": [
      "enter direction(up/down/left/right: left\n"
     ]
    },
    {
     "name": "stdout",
     "output_type": "stream",
     "text": [
      ". F . . S . . . . . \n",
      ". . . . . . . . . . \n",
      ". . . . . . . . . . \n",
      ". . . . . . . . . . \n",
      ". . . . . . . . . . \n",
      ". . . . . . . . . . \n",
      ". . . . . . . . . . \n",
      ". . . . . . . . . . \n",
      ". . . . . . . . . . \n",
      ". . . . . . . . . . \n",
      "\n",
      "score: 0\n"
     ]
    },
    {
     "name": "stdin",
     "output_type": "stream",
     "text": [
      "enter direction(up/down/left/right: left\n"
     ]
    },
    {
     "name": "stdout",
     "output_type": "stream",
     "text": [
      ". F . S . . . . . . \n",
      ". . . . . . . . . . \n",
      ". . . . . . . . . . \n",
      ". . . . . . . . . . \n",
      ". . . . . . . . . . \n",
      ". . . . . . . . . . \n",
      ". . . . . . . . . . \n",
      ". . . . . . . . . . \n",
      ". . . . . . . . . . \n",
      ". . . . . . . . . . \n",
      "\n",
      "score: 0\n"
     ]
    },
    {
     "name": "stdin",
     "output_type": "stream",
     "text": [
      "enter direction(up/down/left/right: left\n"
     ]
    },
    {
     "name": "stdout",
     "output_type": "stream",
     "text": [
      ". F S . . . . . . . \n",
      ". . . . . . . . . . \n",
      ". . . . . . . . . . \n",
      ". . . . . . . . . . \n",
      ". . . . . . . . . . \n",
      ". . . . . . . . . . \n",
      ". . . . . . . . . . \n",
      ". . . . . . . . . . \n",
      ". . . . . . . . . . \n",
      ". . . . . . . . . . \n",
      "\n",
      "score: 0\n"
     ]
    },
    {
     "name": "stdin",
     "output_type": "stream",
     "text": [
      "enter direction(up/down/left/right: left\n"
     ]
    },
    {
     "name": "stdout",
     "output_type": "stream",
     "text": [
      ". S S . . . . . . . \n",
      ". . . . . . . . . . \n",
      ". . . . . . . . . . \n",
      ". . . . . . . . . . \n",
      ". . . . . . . . . . \n",
      ". . . . . . . F . . \n",
      ". . . . . . . . . . \n",
      ". . . . . . . . . . \n",
      ". . . . . . . . . . \n",
      ". . . . . . . . . . \n",
      "\n",
      "score: 1\n"
     ]
    },
    {
     "name": "stdin",
     "output_type": "stream",
     "text": [
      "enter direction(up/down/left/right: down\n"
     ]
    },
    {
     "name": "stdout",
     "output_type": "stream",
     "text": [
      ". S . . . . . . . . \n",
      ". S . . . . . . . . \n",
      ". . . . . . . . . . \n",
      ". . . . . . . . . . \n",
      ". . . . . . . . . . \n",
      ". . . . . . . F . . \n",
      ". . . . . . . . . . \n",
      ". . . . . . . . . . \n",
      ". . . . . . . . . . \n",
      ". . . . . . . . . . \n",
      "\n",
      "score: 1\n"
     ]
    },
    {
     "name": "stdin",
     "output_type": "stream",
     "text": [
      "enter direction(up/down/left/right: down\n"
     ]
    },
    {
     "name": "stdout",
     "output_type": "stream",
     "text": [
      ". . . . . . . . . . \n",
      ". S . . . . . . . . \n",
      ". S . . . . . . . . \n",
      ". . . . . . . . . . \n",
      ". . . . . . . . . . \n",
      ". . . . . . . F . . \n",
      ". . . . . . . . . . \n",
      ". . . . . . . . . . \n",
      ". . . . . . . . . . \n",
      ". . . . . . . . . . \n",
      "\n",
      "score: 1\n"
     ]
    },
    {
     "name": "stdin",
     "output_type": "stream",
     "text": [
      "enter direction(up/down/left/right: down\n"
     ]
    },
    {
     "name": "stdout",
     "output_type": "stream",
     "text": [
      ". . . . . . . . . . \n",
      ". . . . . . . . . . \n",
      ". S . . . . . . . . \n",
      ". S . . . . . . . . \n",
      ". . . . . . . . . . \n",
      ". . . . . . . F . . \n",
      ". . . . . . . . . . \n",
      ". . . . . . . . . . \n",
      ". . . . . . . . . . \n",
      ". . . . . . . . . . \n",
      "\n",
      "score: 1\n"
     ]
    },
    {
     "name": "stdin",
     "output_type": "stream",
     "text": [
      "enter direction(up/down/left/right: down\n"
     ]
    },
    {
     "name": "stdout",
     "output_type": "stream",
     "text": [
      ". . . . . . . . . . \n",
      ". . . . . . . . . . \n",
      ". . . . . . . . . . \n",
      ". S . . . . . . . . \n",
      ". S . . . . . . . . \n",
      ". . . . . . . F . . \n",
      ". . . . . . . . . . \n",
      ". . . . . . . . . . \n",
      ". . . . . . . . . . \n",
      ". . . . . . . . . . \n",
      "\n",
      "score: 1\n"
     ]
    },
    {
     "name": "stdin",
     "output_type": "stream",
     "text": [
      "enter direction(up/down/left/right: down\n"
     ]
    },
    {
     "name": "stdout",
     "output_type": "stream",
     "text": [
      ". . . . . . . . . . \n",
      ". . . . . . . . . . \n",
      ". . . . . . . . . . \n",
      ". . . . . . . . . . \n",
      ". S . . . . . . . . \n",
      ". S . . . . . F . . \n",
      ". . . . . . . . . . \n",
      ". . . . . . . . . . \n",
      ". . . . . . . . . . \n",
      ". . . . . . . . . . \n",
      "\n",
      "score: 1\n"
     ]
    },
    {
     "name": "stdin",
     "output_type": "stream",
     "text": [
      "enter direction(up/down/left/right: right\n"
     ]
    },
    {
     "name": "stdout",
     "output_type": "stream",
     "text": [
      ". . . . . . . . . . \n",
      ". . . . . . . . . . \n",
      ". . . . . . . . . . \n",
      ". . . . . . . . . . \n",
      ". . . . . . . . . . \n",
      ". S S . . . . F . . \n",
      ". . . . . . . . . . \n",
      ". . . . . . . . . . \n",
      ". . . . . . . . . . \n",
      ". . . . . . . . . . \n",
      "\n",
      "score: 1\n"
     ]
    },
    {
     "name": "stdin",
     "output_type": "stream",
     "text": [
      "enter direction(up/down/left/right: right\n"
     ]
    },
    {
     "name": "stdout",
     "output_type": "stream",
     "text": [
      ". . . . . . . . . . \n",
      ". . . . . . . . . . \n",
      ". . . . . . . . . . \n",
      ". . . . . . . . . . \n",
      ". . . . . . . . . . \n",
      ". . S S . . . F . . \n",
      ". . . . . . . . . . \n",
      ". . . . . . . . . . \n",
      ". . . . . . . . . . \n",
      ". . . . . . . . . . \n",
      "\n",
      "score: 1\n"
     ]
    },
    {
     "name": "stdin",
     "output_type": "stream",
     "text": [
      "enter direction(up/down/left/right: right\n"
     ]
    },
    {
     "name": "stdout",
     "output_type": "stream",
     "text": [
      ". . . . . . . . . . \n",
      ". . . . . . . . . . \n",
      ". . . . . . . . . . \n",
      ". . . . . . . . . . \n",
      ". . . . . . . . . . \n",
      ". . . S S . . F . . \n",
      ". . . . . . . . . . \n",
      ". . . . . . . . . . \n",
      ". . . . . . . . . . \n",
      ". . . . . . . . . . \n",
      "\n",
      "score: 1\n"
     ]
    },
    {
     "name": "stdin",
     "output_type": "stream",
     "text": [
      "enter direction(up/down/left/right: right\n"
     ]
    },
    {
     "name": "stdout",
     "output_type": "stream",
     "text": [
      ". . . . . . . . . . \n",
      ". . . . . . . . . . \n",
      ". . . . . . . . . . \n",
      ". . . . . . . . . . \n",
      ". . . . . . . . . . \n",
      ". . . . S S . F . . \n",
      ". . . . . . . . . . \n",
      ". . . . . . . . . . \n",
      ". . . . . . . . . . \n",
      ". . . . . . . . . . \n",
      "\n",
      "score: 1\n"
     ]
    },
    {
     "name": "stdin",
     "output_type": "stream",
     "text": [
      "enter direction(up/down/left/right: right\n"
     ]
    },
    {
     "name": "stdout",
     "output_type": "stream",
     "text": [
      ". . . . . . . . . . \n",
      ". . . . . . . . . . \n",
      ". . . . . . . . . . \n",
      ". . . . . . . . . . \n",
      ". . . . . . . . . . \n",
      ". . . . . S S F . . \n",
      ". . . . . . . . . . \n",
      ". . . . . . . . . . \n",
      ". . . . . . . . . . \n",
      ". . . . . . . . . . \n",
      "\n",
      "score: 1\n"
     ]
    },
    {
     "name": "stdin",
     "output_type": "stream",
     "text": [
      "enter direction(up/down/left/right: right\n"
     ]
    },
    {
     "name": "stdout",
     "output_type": "stream",
     "text": [
      ". . . . . . . . . . \n",
      ". . . . . . . . . . \n",
      ". . . . . . . . . . \n",
      ". . . . . . . . F . \n",
      ". . . . . . . . . . \n",
      ". . . . . S S S . . \n",
      ". . . . . . . . . . \n",
      ". . . . . . . . . . \n",
      ". . . . . . . . . . \n",
      ". . . . . . . . . . \n",
      "\n",
      "score: 2\n"
     ]
    },
    {
     "name": "stdin",
     "output_type": "stream",
     "text": [
      "enter direction(up/down/left/right: left\n"
     ]
    },
    {
     "name": "stdout",
     "output_type": "stream",
     "text": [
      "you hit the yourself....game over!!!\n",
      "final score: 2\n"
     ]
    }
   ],
   "source": [
    "import random\n",
    "width=10\n",
    "height=10\n",
    "\n",
    "def print_board(snake,food):\n",
    "    for y in range(height):\n",
    "        for x in range(width):\n",
    "            if [x,y]== food:\n",
    "                print(\"F\",end=\" \")\n",
    "            elif[x,y] in snake:\n",
    "                print(\"S\",end=\" \")\n",
    "            else:\n",
    "                print(\".\",end=\" \")\n",
    "        print()        \n",
    "    print()\n",
    "def move_snake(snake,direction):\n",
    "    head=snake[-1]\n",
    "    if direction==\"up\":\n",
    "        new_head= [head[0],head[1]-1]\n",
    "    elif direction==\"down\":\n",
    "        new_head= [head[0],head[1]+1]\n",
    "    elif direction==\"left\":\n",
    "         new_head= [head[0]-1,head[1]]\n",
    "    elif direction==\"right\":\n",
    "        new_head= [head[0]+1,head[1]]\n",
    "    else:\n",
    "        print(\"invalid direction,use left/right/down/up.\")\n",
    "        return snake,false\n",
    "# wall colide conditions\n",
    "    if new_head[0]<0 or new_head[0]>=width or new_head[1]<0 or new_head[1]>=height:\n",
    "        return snake,\"wall\"\n",
    "# self colide conditions\n",
    "    if new_head in snake:\n",
    "        return snake, \"self\"\n",
    "    snake.append(new_head)\n",
    "    return snake, new_head\n",
    "def place_food(snake):\n",
    "    while True:\n",
    "        x=random.randint(0,width-1)\n",
    "        y=random.randint(0,height-1)\n",
    "        if[x,y] not in snake:\n",
    "           return[x,y]\n",
    "def snake_game():\n",
    "    snake=[[5,5]]\n",
    "    food=place_food(snake)\n",
    "    score=0\n",
    "    while True:\n",
    "        print_board(snake,food)\n",
    "        print(\"score:\",score)\n",
    "        direction=input(\"enter direction(up/down/left/right:\")\n",
    "        snake,result=move_snake(snake,direction)\n",
    "        if result==\"wall\":\n",
    "            print(\"you hit the wall,game over!!!\")\n",
    "        elif result==\"self\":\n",
    "            print(\"you hit the yourself....game over!!!\")\n",
    "            break\n",
    "        elif result==food:\n",
    "            score+=1\n",
    "            food=place_food(snake)\n",
    "        else:\n",
    "            snake.pop(0)\n",
    "    print(\"final score:\",score)            \n",
    "snake_game()        "
   ]
  },
  {
   "cell_type": "code",
   "execution_count": null,
   "id": "37e21b5b-f75e-4d60-8759-5bf10e6089e7",
   "metadata": {},
   "outputs": [],
   "source": []
  }
 ],
 "metadata": {
  "kernelspec": {
   "display_name": "Python 3 (ipykernel)",
   "language": "python",
   "name": "python3"
  },
  "language_info": {
   "codemirror_mode": {
    "name": "ipython",
    "version": 3
   },
   "file_extension": ".py",
   "mimetype": "text/x-python",
   "name": "python",
   "nbconvert_exporter": "python",
   "pygments_lexer": "ipython3",
   "version": "3.12.7"
  }
 },
 "nbformat": 4,
 "nbformat_minor": 5
}
